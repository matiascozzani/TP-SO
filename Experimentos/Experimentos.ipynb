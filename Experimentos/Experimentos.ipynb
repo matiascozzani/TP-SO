{
 "cells": [
  {
   "attachments": {},
   "cell_type": "markdown",
   "id": "bcfc44ac",
   "metadata": {},
   "source": [
    "# Imports necesarios"
   ]
  },
  {
   "cell_type": "code",
   "execution_count": 249,
   "id": "4be3fe07",
   "metadata": {},
   "outputs": [],
   "source": [
    "import sys\n",
    "import os\n",
    "import random\n",
    "import string\n",
    "import subprocess"
   ]
  },
  {
   "cell_type": "code",
   "execution_count": 250,
   "id": "e74c1575",
   "metadata": {},
   "outputs": [],
   "source": [
    "def armarArchivo(cantLineas, index):\n",
    "\n",
    "    # Número de strings a generar\n",
    "    num_strings = cantLineas\n",
    "\n",
    "    # Longitud máxima del string\n",
    "    longitud_maxima = 5\n",
    "\n",
    "    # Nombre del archivo de salida\n",
    "    archivo_salida = f'generado{index}.txt'\n",
    "\n",
    "    # Generar y guardar los strings en el archivo\n",
    "    with open(archivo_salida, 'w') as f:\n",
    "        for _ in range(num_strings):\n",
    "            longitud = random.randint(1, longitud_maxima)\n",
    "            string_generado = random.choice(string.ascii_lowercase) + ''.join(random.choices(string.ascii_lowercase + string.digits, k=longitud-1))\n",
    "            f.write(string_generado + '\\n')\n",
    "    return archivo_salida"
   ]
  },
  {
   "cell_type": "code",
   "execution_count": 251,
   "id": "153241bf",
   "metadata": {},
   "outputs": [],
   "source": [
    "def ordenarArchivo(archivo):\n",
    "    # Nombre del archivo de entrada y salida\n",
    "    archivo_salida = archivo.replace(\".txt\", \"\")\n",
    "    archivo_salida = f'{archivo_salida}Ordenado.txt'\n",
    "    # Leer las líneas del archivo de entrada\n",
    "    with open(archivo, 'r') as f:\n",
    "        lineas = f.readlines()\n",
    "\n",
    "    # Ordenar alfabéticamente las líneas\n",
    "    lineas_ordenadas = sorted(lineas)\n",
    "\n",
    "    # Escribir las líneas ordenadas en el archivo de salida\n",
    "    with open(archivo_salida, 'w') as f:\n",
    "        f.writelines(lineas_ordenadas)\n"
   ]
  },
  {
   "attachments": {},
   "cell_type": "markdown",
   "id": "c487089e",
   "metadata": {},
   "source": [
    "# Preparacion para Experimento 1:\n",
    "\n",
    "1.1) Preparamos 10 archivos ordenados alfabeticamente que usaremos para medir tiempos de carga de datos."
   ]
  },
  {
   "cell_type": "code",
   "execution_count": 252,
   "id": "ad1f364e",
   "metadata": {},
   "outputs": [],
   "source": [
    "def PrepararExperimento11():\n",
    "    archivos = []\n",
    "    for i in range (10):\n",
    "        archivos.append(armarArchivo(15000, i))\n",
    "    \n",
    "    for i in archivos:\n",
    "        ordenarArchivo(i)"
   ]
  },
  {
   "cell_type": "code",
   "execution_count": 253,
   "id": "4f283c7e",
   "metadata": {},
   "outputs": [],
   "source": [
    "PrepararExperimento11()"
   ]
  },
  {
   "cell_type": "code",
   "execution_count": 254,
   "id": "032445ad",
   "metadata": {},
   "outputs": [],
   "source": [
    "def CorrerExperimento11():\n",
    "    maxCantThreads = 3\n",
    "    corridasPorThread = 5\n",
    "    cantArchivosPorThread = 3\n",
    "    archivos = \"\"\n",
    "    matrizTiempos = []\n",
    "\n",
    "    print(archivos)\n",
    "    for i in range(maxCantThreads):\n",
    "        filaResultados = []\n",
    "        for j in range(corridasPorThread):\n",
    "            proc = subprocess.Popen([\"../build/ContarPalabrasExperimentar\", str(i), str(0), '../Experimentos/generado0Ordenado.txt'], stdout=subprocess.PIPE, stderr=subprocess.PIPE,\n",
    "                                    stdin=subprocess.PIPE, shell=True, universal_newlines=True)\n",
    "            exitCode = proc.wait()\n",
    "            if exitCode != 0: print(\"JEJEJ FALLA\")\n",
    "            result = str(proc.stdout.read())\n",
    "\n",
    "            result = result.split(' ')\n",
    "            #en result[0] está el tiempo que tardó\n",
    "            filaResultados.append(result[0])\n",
    "            #esto nos deja una matriz de cantArchivos filas, y corridasPorThread columnas\n",
    "        matrizTiempos.append(filaResultados)\n",
    "        \n",
    "    return matrizTiempos"
   ]
  },
  {
   "cell_type": "code",
   "execution_count": 255,
   "id": "0c6a8ad4",
   "metadata": {},
   "outputs": [
    {
     "name": "stdout",
     "output_type": "stream",
     "text": [
      "\n",
      "JEJEJ FALLA\n",
      "JEJEJ FALLA\n",
      "JEJEJ FALLA\n",
      "JEJEJ FALLA\n",
      "JEJEJ FALLA\n",
      "JEJEJ FALLA\n",
      "JEJEJ FALLA\n",
      "JEJEJ FALLA\n",
      "JEJEJ FALLA\n",
      "JEJEJ FALLA\n",
      "JEJEJ FALLA\n",
      "JEJEJ FALLA\n",
      "JEJEJ FALLA\n",
      "JEJEJ FALLA\n",
      "JEJEJ FALLA\n"
     ]
    },
    {
     "data": {
      "text/plain": [
       "[['Error:', 'Error:', 'Error:', 'Error:', 'Error:'],\n",
       " ['Error:', 'Error:', 'Error:', 'Error:', 'Error:'],\n",
       " ['Error:', 'Error:', 'Error:', 'Error:', 'Error:']]"
      ]
     },
     "execution_count": 255,
     "metadata": {},
     "output_type": "execute_result"
    }
   ],
   "source": [
    "datosExperimento11 = CorrerExperimento11()\n",
    "datosExperimento11"
   ]
  }
 ],
 "metadata": {
  "kernelspec": {
   "display_name": "Python 3",
   "language": "python",
   "name": "python3"
  },
  "language_info": {
   "codemirror_mode": {
    "name": "ipython",
    "version": 3
   },
   "file_extension": ".py",
   "mimetype": "text/x-python",
   "name": "python",
   "nbconvert_exporter": "python",
   "pygments_lexer": "ipython3",
   "version": "3.10.6"
  }
 },
 "nbformat": 4,
 "nbformat_minor": 5
}
